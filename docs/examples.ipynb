{
 "cells": [
  {
   "cell_type": "markdown",
   "metadata": {},
   "source": [
    "# Welcome to the Python CoGe API\n",
    "\n",
    "The CoGePy API wraps the CoGe (www.genomevolution.org) API with native Python classes and methods to allow easier interaction with the services. This document illustrates the capabilities of the API and should serve as a quick 'getting started' manual."
   ]
  },
  {
   "cell_type": "markdown",
   "metadata": {},
   "source": [
    "Coming Soon: Full API scheme."
   ]
  },
  {
   "cell_type": "markdown",
   "metadata": {},
   "source": [
    "## Importing Module"
   ]
  },
  {
   "cell_type": "code",
   "execution_count": null,
   "metadata": {
    "collapsed": true
   },
   "outputs": [],
   "source": [
    "import os\n",
    "import sys\n",
    "sys.path.insert(0, os.path.abspath('..'))\n",
    "import coge"
   ]
  },
  {
   "cell_type": "code",
   "execution_count": null,
   "metadata": {
    "collapsed": true
   },
   "outputs": [],
   "source": [
    "import pandas as pd"
   ]
  },
  {
   "cell_type": "markdown",
   "metadata": {},
   "source": [
    "## Authentication"
   ]
  },
  {
   "cell_type": "code",
   "execution_count": null,
   "metadata": {
    "collapsed": false
   },
   "outputs": [],
   "source": [
    "# Create an AuthToken object from a token.\n",
    "my_auth = coge.auth.AuthToken(username='Your Username', token='Your Token')\n",
    "\n",
    "# Access AuthToken features.\n",
    "usr = my_auth.username\n",
    "tkn = my_auth.token"
   ]
  },
  {
   "cell_type": "markdown",
   "metadata": {},
   "source": [
    "## Organisms"
   ]
  },
  {
   "cell_type": "code",
   "execution_count": null,
   "metadata": {
    "collapsed": true
   },
   "outputs": [],
   "source": [
    "# Search organisms (by search term).\n",
    "organism_search_results = coge.organisms.search('Col-0')"
   ]
  },
  {
   "cell_type": "code",
   "execution_count": null,
   "metadata": {
    "collapsed": true
   },
   "outputs": [],
   "source": [
    "# Fetch organism (by ID).\n",
    "my_organism = coge.Organism(id=1)\n",
    "\n",
    "# ... bulk fetching\n",
    "# Coming Soon!"
   ]
  },
  {
   "cell_type": "code",
   "execution_count": null,
   "metadata": {
    "collapsed": true
   },
   "outputs": [],
   "source": [
    "# Add organism (by Organism())\n",
    "\n",
    "# Step 1: Create a new Organism() by defining 'name' and 'description'.\n",
    "# ... TIP: Description MUST be an NCBI Taxonomy (see https://www.ncbi.nlm.nih.gov/taxonomy)\n",
    "my_organism = coge.Organism(name=\"MyOwnOrganism\", \n",
    "                            description='cellular organisms; Eukaryota; Opisthokonta; Metazoa; Eumetazoa; Bilateria; \\\n",
    "                            Deuterostomia; Chordata; Craniata; Vertebrata; Gnathostomata; Teleostomi; Euteleostomi; \\\n",
    "                            Sarcopterygii; Dipnotetrapodomorpha; Tetrapoda; Amniota; Mammalia; Theria; Eutheria; \\\n",
    "                            Boreoeutheria; Euarchontoglires; Primates; Haplorrhini; Simiiformes; Catarrhini; \\\n",
    "                            Hominoidea; Hominidae; Homininae; Homo; Me')\n",
    "\n",
    "# Step 2: 'Add' organism class to CoGe.\n",
    "# ... TIP: Authentication is always required when adding data to CoGe.\n",
    "my_organism.add(auth=my_auth)"
   ]
  },
  {
   "cell_type": "markdown",
   "metadata": {},
   "source": [
    "## Genomes"
   ]
  },
  {
   "cell_type": "code",
   "execution_count": null,
   "metadata": {
    "collapsed": true
   },
   "outputs": [],
   "source": [
    "# Search genomes (by search term).\n",
    "# Coming Soon!"
   ]
  },
  {
   "cell_type": "code",
   "execution_count": null,
   "metadata": {
    "collapsed": true
   },
   "outputs": [],
   "source": [
    "# Fetch genome (by ID).\n",
    "# Coming soon!"
   ]
  },
  {
   "cell_type": "code",
   "execution_count": null,
   "metadata": {
    "collapsed": true
   },
   "outputs": [],
   "source": [
    "# Add genome (by Genome()).\n",
    "# Coming soon!"
   ]
  },
  {
   "cell_type": "code",
   "execution_count": null,
   "metadata": {
    "collapsed": true
   },
   "outputs": [],
   "source": [
    "# Update genome (by Genome()).\n",
    "# Coming soon!"
   ]
  },
  {
   "cell_type": "code",
   "execution_count": null,
   "metadata": {
    "collapsed": true
   },
   "outputs": [],
   "source": [
    "# Fetch sequence (by Genome()).\n",
    "# Coming soon!"
   ]
  },
  {
   "cell_type": "code",
   "execution_count": null,
   "metadata": {
    "collapsed": true
   },
   "outputs": [],
   "source": [
    "# Export genome (by Genome()).\n",
    "# Coming soon!"
   ]
  },
  {
   "cell_type": "code",
   "execution_count": null,
   "metadata": {
    "collapsed": true
   },
   "outputs": [],
   "source": [
    "# Delete genome (by Genome()).\n",
    "# Coming soon!"
   ]
  },
  {
   "cell_type": "markdown",
   "metadata": {},
   "source": [
    "## Experiments"
   ]
  },
  {
   "cell_type": "code",
   "execution_count": null,
   "metadata": {
    "collapsed": true
   },
   "outputs": [],
   "source": [
    "# Search experiments (by search term).\n",
    "\n",
    "# ... Search public data (without authentication).\n",
    "anonymous_experiment_search = coge.experiments.search(\"Col-0\")\n",
    "\n",
    "# ... Search public & your private data (with authentication).\n",
    "# Coming Soon!\n",
    "# authorize_organism_search = coge.organisms.search('Col-0', auth=my_auth) "
   ]
  },
  {
   "cell_type": "code",
   "execution_count": null,
   "metadata": {
    "collapsed": true
   },
   "outputs": [],
   "source": [
    "# Fetch experiment (by ID).\n",
    "\n",
    "# ... Public data (without authentication).\n",
    "public_exp = coge.Experiment(id=1)\n",
    "\n",
    "# ... Private data (with authentication).\n",
    "private_exp = coge.Experiment(id=1, auth=my_auth)"
   ]
  },
  {
   "cell_type": "code",
   "execution_count": null,
   "metadata": {
    "collapsed": true
   },
   "outputs": [],
   "source": [
    "# Add a single experiment (by Experiment()).\n",
    "\n",
    "# Step 1: Create a local Experiment()\n",
    "# ... TIP: Required fields are name, genome_id, and source_data. Other fields are either optional, or can be \n",
    "#          automatically populated.\n",
    "my_exp = coge.Experiment(name='My Experiment', \n",
    "                         description=\"An experiment conducted by our excellent team.\", \n",
    "                         version=1, \n",
    "                         source='Lyons Lab', \n",
    "                         restricted=True, \n",
    "                         genome_id=1, \n",
    "                         notebook_id=1, \n",
    "                         tags=['Testing', 'Transcriptome'], \n",
    "                         additional_metadata=[{'type': 'note', 'text': 'Practice data'},\n",
    "                                              {'type': 'sequencer', 'text': 'Illumina'}], \n",
    "                         source_data=[{'type': 'irods', 'path': '/irods/path/R1.fastq'}, \n",
    "                                      {'type': 'irods', 'path': '/irods/path/R2.fastq'}], \n",
    "                         analysis_parameters=[{'read_params': {'read_type': 'paired', 'encoding': 33}}, \n",
    "                                              {'snp_params': {'method': 'coge'}}])\n",
    "\n",
    "# Step 2: 'Add' Experiment() to CoGe.\n",
    "# ... TIP: Authentication is always required when adding data to CoGe.\n",
    "my_exp.add(auth=my_auth)"
   ]
  },
  {
   "cell_type": "code",
   "execution_count": null,
   "metadata": {
    "collapsed": false
   },
   "outputs": [],
   "source": [
    "# Bulk add experiments (by [Experiment(), Experiment() ...])\n",
    "\n",
    "# Load information about experiments from an external spreadsheet.\n",
    "# ... TIP: See '../tests/experiments.tsv'.\n",
    "my_data = pd.read_csv('../tests/experiments.tsv', sep='\\t', header=0)\n",
    "\n",
    "# Define analysis parameters.\n",
    "my_parameters = [{'read_params': {'read_type': 'single', \"encoding\": 33}},\n",
    "                 {'alignment_params': {'tool': 'hisat2', 'load_bam': True}}]\n",
    "                 \n",
    "# Iterate over experiment data creating Experiments() and appending to list 'my_experiments'\n",
    "my_experiments = []\n",
    "for i, d in my_data.iterrows():\n",
    "    my_exp = coge.Experiment(name=d['name'],\n",
    "                             description=d['description'],\n",
    "                             version=d['version'],\n",
    "                             source=d['source'],\n",
    "                             restricted=True,\n",
    "                             genome_id=d['genome_id'],\n",
    "                             notebook_id=d['notebook_id'],\n",
    "                             tags=[t for t in d['tags'].split(',')],\n",
    "                             source_data={'type': 'irods', 'path': d['source_data']},\n",
    "                             analysis_parameters=my_parameters)\n",
    "    my_experiments.append(my_exp)\n",
    "\n",
    "    # Load experiments using the bulk loader.\n",
    "complete, failed = coge.experiments.bulk_load(my_experiments, auth=my_auth, task_limit=2)"
   ]
  },
  {
   "cell_type": "code",
   "execution_count": null,
   "metadata": {
    "collapsed": true
   },
   "outputs": [],
   "source": [
    "# Update an experiment (by Experiment()).\n",
    "old_exp = coge.Experiment(id=1, auth=my_auth)\n",
    "old_exp.name = \"My Renamed Experiment\"\n",
    "update_status = old_exp.update(auth=my_auth)"
   ]
  },
  {
   "cell_type": "code",
   "execution_count": null,
   "metadata": {
    "collapsed": true
   },
   "outputs": [],
   "source": [
    "# Delete an experiment (by Experiment()).\n",
    "delete_exp = coge.Experiment(id=1, auth=my_auth)\n",
    "delete_exp.delete(auth=my_auth)"
   ]
  },
  {
   "cell_type": "markdown",
   "metadata": {},
   "source": [
    "## Jobs"
   ]
  },
  {
   "cell_type": "code",
   "execution_count": null,
   "metadata": {
    "collapsed": true
   },
   "outputs": [],
   "source": [
    "# Create a Job() object (from job ID).\n",
    "\n",
    "# ... Public jobs (no authentication).\n",
    "public_job = coge.Job(id=1)\n",
    "\n",
    "# ... Private jobs (authentication required).\n",
    "private_job = coge.Job(id=1, auth=my_auth)"
   ]
  },
  {
   "cell_type": "code",
   "execution_count": null,
   "metadata": {
    "collapsed": true
   },
   "outputs": [],
   "source": [
    "# Check/update job status\n",
    "public_job.update_status()\n",
    "status = public_job.status"
   ]
  }
 ],
 "metadata": {
  "kernelspec": {
   "display_name": "Python 2",
   "language": "python",
   "name": "python2"
  },
  "language_info": {
   "codemirror_mode": {
    "name": "ipython",
    "version": 2
   },
   "file_extension": ".py",
   "mimetype": "text/x-python",
   "name": "python",
   "nbconvert_exporter": "python",
   "pygments_lexer": "ipython2",
   "version": "2.7.11"
  }
 },
 "nbformat": 4,
 "nbformat_minor": 0
}
